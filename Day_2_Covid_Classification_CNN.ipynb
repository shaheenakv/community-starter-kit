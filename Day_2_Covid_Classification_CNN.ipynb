{
  "nbformat": 4,
  "nbformat_minor": 0,
  "metadata": {
    "colab": {
      "name": "Day 2 - Covid Classification - CNN.ipynb",
      "provenance": [],
      "collapsed_sections": [],
      "include_colab_link": true
    },
    "kernelspec": {
      "name": "python3",
      "display_name": "Python 3"
    }
  },
  "cells": [
    {
      "cell_type": "markdown",
      "metadata": {
        "id": "view-in-github",
        "colab_type": "text"
      },
      "source": [
        "<a href=\"https://colab.research.google.com/github/shaheenakv/community-starter-kit/blob/master/Day_2_Covid_Classification_CNN.ipynb\" target=\"_parent\"><img src=\"https://colab.research.google.com/assets/colab-badge.svg\" alt=\"Open In Colab\"/></a>"
      ]
    },
    {
      "cell_type": "code",
      "metadata": {
        "colab": {
          "base_uri": "https://localhost:8080/"
        },
        "id": "AhDlC3r6eWyu",
        "outputId": "5181935d-5143-4a6e-c955-ba89a179925b"
      },
      "source": [
        "from google.colab import drive\r\n",
        "drive.mount('/content/drive')"
      ],
      "execution_count": null,
      "outputs": [
        {
          "output_type": "stream",
          "text": [
            "Mounted at /content/drive\n"
          ],
          "name": "stdout"
        }
      ]
    },
    {
      "cell_type": "code",
      "metadata": {
        "colab": {
          "base_uri": "https://localhost:8080/"
        },
        "id": "kGPB4cBEf_BQ",
        "outputId": "ab233801-67d5-406a-d542-4ccd1e7c77dc"
      },
      "source": [
        "from zipfile import ZipFile\r\n",
        "file_name = \"/content/drive/MyDrive/CovidDataset.zip\"\r\n",
        "with ZipFile(file_name,'r') as zip:\r\n",
        "  zip.extractall()\r\n",
        "  print(\"Completed\")"
      ],
      "execution_count": null,
      "outputs": [
        {
          "output_type": "stream",
          "text": [
            "Completed\n"
          ],
          "name": "stdout"
        }
      ]
    },
    {
      "cell_type": "code",
      "metadata": {
        "id": "wt57irlghq4C"
      },
      "source": [
        "import keras as tf"
      ],
      "execution_count": null,
      "outputs": []
    },
    {
      "cell_type": "code",
      "metadata": {
        "id": "LmrGtyESiTZw"
      },
      "source": [
        "### Create the model\r\n",
        "model = tf.models.Sequential()\r\n",
        "model.add(tf.layers.Conv2D(32,kernel_size=(3,3),activation='relu',input_shape=(224,224,3)))\r\n",
        "model.add(tf.layers.MaxPool2D(pool_size=(2,2)))\r\n",
        "\r\n",
        "model.add(tf.layers.Conv2D(64,kernel_size=(3,3),activation='relu'))\r\n",
        "model.add(tf.layers.MaxPool2D(pool_size=(2,2)))\r\n",
        "model.add(tf.layers.Dropout(0.25))\r\n",
        "\r\n",
        "model.add(tf.layers.Conv2D(64,kernel_size=(3,3),activation='relu'))\r\n",
        "model.add(tf.layers.MaxPool2D(pool_size=(2,2)))\r\n",
        "model.add(tf.layers.Dropout(0.25))\r\n",
        "\r\n",
        "model.add(tf.layers.Conv2D(128,kernel_size=(3,3),activation='relu'))\r\n",
        "model.add(tf.layers.MaxPool2D(pool_size=(2,2)))\r\n",
        "model.add(tf.layers.Dropout(0.25))\r\n",
        "\r\n",
        "model.add(tf.layers.Flatten())\r\n",
        "model.add(tf.layers.Dense(64,activation='relu'))\r\n",
        "model.add(tf.layers.Dropout(0.5))\r\n",
        "model.add(tf.layers.Dense(1,activation='sigmoid'))\r\n",
        "model.compile(loss='binary_crossentropy',optimizer='adam',metrics=['accuracy'])"
      ],
      "execution_count": null,
      "outputs": []
    },
    {
      "cell_type": "code",
      "metadata": {
        "id": "_ZP5VfnqlTgV"
      },
      "source": [
        "### Mould Training Images (Image Augmentation)\r\n",
        "from keras.preprocessing import image\r\n",
        "train_datagen = image.ImageDataGenerator(rescale=1./255,shear_range=0.2,\r\n",
        "                                         zoom_range=0.2,horizontal_flip=True)\r\n",
        "test_datagen = image.ImageDataGenerator(rescale=1./255,shear_range=0.2,\r\n",
        "                                         zoom_range=0.2,horizontal_flip=True)"
      ],
      "execution_count": null,
      "outputs": []
    },
    {
      "cell_type": "code",
      "metadata": {
        "colab": {
          "base_uri": "https://localhost:8080/"
        },
        "id": "7tR2KJtPmuML",
        "outputId": "eb7c5a39-81e2-4c74-9f4a-75a3e6257f0c"
      },
      "source": [
        "train_generator = train_datagen.flow_from_directory('/content/CovidDataset/Train',\r\n",
        "                                                    target_size=(224,224),\r\n",
        "                                                    batch_size=32,\r\n",
        "                                                    class_mode = 'binary')\r\n",
        "test_generator = test_datagen.flow_from_directory('/content/CovidDataset/Val',\r\n",
        "                                                    target_size=(224,224),\r\n",
        "                                                    batch_size=32,\r\n",
        "                                                    class_mode = 'binary')"
      ],
      "execution_count": null,
      "outputs": [
        {
          "output_type": "stream",
          "text": [
            "Found 224 images belonging to 2 classes.\n",
            "Found 60 images belonging to 2 classes.\n"
          ],
          "name": "stdout"
        }
      ]
    },
    {
      "cell_type": "code",
      "metadata": {
        "id": "IjsvGphrn_7z"
      },
      "source": [
        ""
      ],
      "execution_count": null,
      "outputs": []
    }
  ]
}